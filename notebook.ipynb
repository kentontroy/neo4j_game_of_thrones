{
 "cells": [
  {
   "cell_type": "code",
   "execution_count": null,
   "id": "9cc9615a-8e9b-4ef2-a53e-a04d2b95e3a5",
   "metadata": {},
   "outputs": [],
   "source": [
    "!pip install neo4j\n",
    "!pip install dotenv\n",
    "!pip install langchain"
   ]
  },
  {
   "cell_type": "code",
   "execution_count": null,
   "id": "47168676-6db9-4a49-8e5e-a6ba51566dba",
   "metadata": {},
   "outputs": [],
   "source": [
    "from neo4j import GraphDatabase\n",
    "\n",
    "URI = \"bolt://game_of_thrones_neo4j:7687\"\n",
    "AUTH = (\"neo4j\", \"cloudera\")\n",
    "\n",
    "with GraphDatabase.driver(URI, auth=AUTH) as driver:\n",
    "    driver.verify_connectivity()"
   ]
  },
  {
   "cell_type": "code",
   "execution_count": null,
   "id": "4bf3e3bd-5b25-4861-b99c-965165ab00ae",
   "metadata": {},
   "outputs": [],
   "source": [
    "from df_creator import readTriplesFromDfFile\n",
    "\n",
    "filePath = \"./data/all_raw_triples.csv\"\n",
    "pd.options.display.max_rows = 100\n",
    "df = readTriplesFromDfFile(filePath = args.file)\n",
    "\n",
    "sql = \"\"\"SELECT Book, Page, Subject, Predicate, Object\n",
    "          FROM df\n",
    "      \"\"\"\n",
    "dfQuery = runSql(df = df, sql = args.sql)\n",
    "dfQuery"
   ]
  },
  {
   "cell_type": "code",
   "execution_count": null,
   "id": "1071f592-0e95-427f-8aaf-13e398b7f11a",
   "metadata": {},
   "outputs": [],
   "source": []
  }
 ],
 "metadata": {
  "kernelspec": {
   "display_name": "Python 3 (ipykernel)",
   "language": "python",
   "name": "python3"
  },
  "language_info": {
   "codemirror_mode": {
    "name": "ipython",
    "version": 3
   },
   "file_extension": ".py",
   "mimetype": "text/x-python",
   "name": "python",
   "nbconvert_exporter": "python",
   "pygments_lexer": "ipython3",
   "version": "3.10.4"
  }
 },
 "nbformat": 4,
 "nbformat_minor": 5
}
